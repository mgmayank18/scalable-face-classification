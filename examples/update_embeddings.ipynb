{
 "cells": [
  {
   "cell_type": "code",
   "execution_count": null,
   "metadata": {},
   "outputs": [],
   "source": [
    "def add_embeddings(self, query_idx, embeddings, pred_idx):\n",
    "    '''\n",
    "    query_idx : query indexes for current iteration\n",
    "    embeddings : embeddings for query_idx\n",
    "    pred_idx : predicted classes\n",
    "    '''\n",
    "    \n",
    "    for i in range(len(pred_idx)):\n",
    "        class_idx = pred_idx[i] #label\n",
    "        img_idx = query_idx[i]\n",
    "    \n",
    "        self.support_database[class_idx][\"img_idxs\"].append(img_idx)\n",
    "        self.support_database[class_idx][\"embeddings\"].append(embeddings[i])\n",
    "        \n",
    "    \n",
    "def update_embeddings(self):\n",
    "    \n",
    "    for item in self.support_database.items():\n",
    "        class_idx = item[0]   #key\n",
    "        class_info = item[1]  #value\n",
    "        images = []\n",
    "        for img_ref in class_info[\"img_idxs\"]:\n",
    "            img = self.trans(self.vgg_dataset.__getitem__(img_ref)[0])\n",
    "            images.append(img)\n",
    "\n",
    "        aligned = torch.stack(images).to(device)\n",
    "        embeddings = np.zeros((len(aligned), 512))\n",
    "\n",
    "        # can keep as self.resnet maybe\n",
    "        if resnet is None:\n",
    "            resnet = InceptionResnetV1(pretrained='vggface2').eval().to(device)\n",
    "\n",
    "        for i in range(0, math.ceil(len(aligned)/32)):\n",
    "            start = 32*i\n",
    "            end = min(32*(i+1), len(aligned))\n",
    "            embeddings[start:end] = resnet(aligned[start:end]).detach().cpu()\n",
    "\n",
    "        embeddings = embeddings / np.linalg.norm(embeddings, axis=-1)[:, np.newaxis]\n",
    "        self.support_database[class_idx][\"embeddings\"] = embeddings.detach().cpu()\n",
    "\n",
    "        prototype_embedding = np.mean(embeddings, dim=0)\n",
    "        self.support_database[class_idx]['prototype'] = prototype_embedding\n",
    "    \n",
    "    "
   ]
  }
 ],
 "metadata": {
  "kernelspec": {
   "display_name": "Python 3",
   "language": "python",
   "name": "python3"
  },
  "language_info": {
   "codemirror_mode": {
    "name": "ipython",
    "version": 3
   },
   "file_extension": ".py",
   "mimetype": "text/x-python",
   "name": "python",
   "nbconvert_exporter": "python",
   "pygments_lexer": "ipython3",
   "version": "3.8.1"
  }
 },
 "nbformat": 4,
 "nbformat_minor": 4
}
