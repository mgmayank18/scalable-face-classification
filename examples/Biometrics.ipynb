{
 "cells": [
  {
   "cell_type": "code",
   "execution_count": 1,
   "metadata": {},
   "outputs": [],
   "source": [
    "from facenet_pytorch import MTCNN, InceptionResnetV1, fixed_image_standardization, training\n",
    "import torch\n",
    "from torch.utils.data import Dataset, DataLoader, SubsetRandomSampler\n",
    "from torch import optim\n",
    "from torch.optim.lr_scheduler import MultiStepLR\n",
    "from torch.utils.tensorboard import SummaryWriter\n",
    "from torchvision import datasets, transforms\n",
    "import math\n",
    "\n",
    "import numpy as np\n",
    "import os\n",
    "\n",
    "from sklearn.neighbors import NearestNeighbors"
   ]
  },
  {
   "cell_type": "code",
   "execution_count": 2,
   "metadata": {},
   "outputs": [
    {
     "name": "stdout",
     "output_type": "stream",
     "text": [
      "Running on device: cuda:0\n"
     ]
    }
   ],
   "source": [
    "device = torch.device('cuda:0' if torch.cuda.is_available() else 'cpu')\n",
    "print('Running on device: {}'.format(device))"
   ]
  },
  {
   "cell_type": "code",
   "execution_count": 3,
   "metadata": {},
   "outputs": [],
   "source": [
    "def collate_fn(x):\n",
    "    return x[0]\n",
    "workers = 0 if os.name == 'nt' else 4\n",
    "\n",
    "toy_dataset = datasets.ImageFolder('../data/test_images')\n",
    "toy_dataset.idx_to_class = {i:c for c, i in toy_dataset.class_to_idx.items()}\n",
    "toy_loader = DataLoader(toy_dataset, collate_fn=collate_fn, num_workers=workers)\n",
    "\n",
    "dataset = datasets.ImageFolder('../data/VGGFace2/train_cropped_split')\n",
    "dataset.idx_to_class = {i:c for c, i in dataset.class_to_idx.items()}\n",
    "labels = np.array([j for i,j in dataset.imgs])\n",
    "dataset.class_to_instances = {class_idx : np.where(labels == class_idx)[0] for class_idx in dataset.idx_to_class.keys()}\n",
    "loader = DataLoader(dataset, collate_fn=collate_fn, num_workers=workers)"
   ]
  },
  {
   "cell_type": "code",
   "execution_count": 4,
   "metadata": {},
   "outputs": [],
   "source": [
    "initial_database = {}\n",
    "labels = np.array([j for i,j in dataset.imgs])\n",
    "for _class in dataset.classes[:2000]:\n",
    "    initial_database[dataset.class_to_idx[_class]] = np.where(labels==dataset.class_to_idx[_class])[0][0]\n",
    "    \n",
    "all_classes = np.array(list(dataset.idx_to_class.keys()))\n",
    "imp_classes = np.array(list(initial_database.keys()))\n",
    "fraud_classes = np.array(all_classes[len(imp_classes):])"
   ]
  },
  {
   "cell_type": "code",
   "execution_count": 5,
   "metadata": {},
   "outputs": [],
   "source": [
    "resnet = InceptionResnetV1(pretrained='vggface2').eval().to(device)"
   ]
  },
  {
   "cell_type": "code",
   "execution_count": 17,
   "metadata": {},
   "outputs": [],
   "source": [
    "class BiometricSystem():\n",
    "    def __init__(self, database, vgg_dataset, model=None, mtcnn=None, threshold=0.5):\n",
    "        ''' Database format:\n",
    "            Dictionary from class_idx to the sample index in vgg_dataset\n",
    "        '''\n",
    "        self.database = database\n",
    "        self.classes = database.keys()\n",
    "        self.vgg_dataset = vgg_dataset\n",
    "#         if vgg_dataset==None:\n",
    "#             self.vgg_dataset = datasets.ImageFolder('../data/VGGFace2/train_cropped')\n",
    "#         else:\n",
    "#             self.vgg_dataset = vgg_dataset\n",
    "#         if mtcnn:\n",
    "#             self.mtcnn = mtcnn\n",
    "#         else:\n",
    "#             self.mtcnn = MTCNN(\n",
    "#                     image_size=160, margin=0, min_face_size=20,\n",
    "#                     thresholds=[0.6, 0.7, 0.7], factor=0.709, post_process=True,\n",
    "#                     device=device\n",
    "        if model:\n",
    "            self.model = model\n",
    "        else:\n",
    "            self.model = InceptionResnetV1(pretrained='vggface2').eval().to(device)\n",
    "        self.trans = transforms.Compose([\n",
    "            np.float32,\n",
    "            transforms.ToTensor(),\n",
    "            fixed_image_standardization\n",
    "        ])\n",
    "        self.threshold = threshold\n",
    "        \n",
    "    def checkfaces(self, query_refs, thresh=0.8):\n",
    "        ''' List of queries for one day\n",
    "        Get a query with the vgg_sample_idx query_ids'''\n",
    "        query_embeddings, support_embeddings = self.get_embeddings(query_refs)\n",
    "        neigh = NearestNeighbors(1, 1)\n",
    "        neigh.fit(support_embeddings)\n",
    "        dists, neighs = neigh.kneighbors(query_embeddings, 1)\n",
    "        neighs[dists>thresh] = -1\n",
    "        return neighs.flatten()\n",
    "                \n",
    "    def get_embeddings(self, query_refs):\n",
    "        ''' List of queries for one day\n",
    "        Get a query with the vgg_sample_idx query_ids'''\n",
    "        aligned = []\n",
    "        classes = []\n",
    "        \n",
    "        n = len(query_refs)\n",
    "        for query_ref in query_refs:\n",
    "            img = self.trans(self.vgg_dataset.__getitem__(query_ref)[0])\n",
    "            aligned.append(img)\n",
    "            \n",
    "        for class_id, img_ref in self.database.items():\n",
    "            img = self.trans(self.vgg_dataset.__getitem__(img_ref)[0])\n",
    "            aligned.append(img)\n",
    "            classes.append(class_id)\n",
    "\n",
    "        aligned = torch.stack(aligned).to(device)\n",
    "        embeddings = np.zeros((len(aligned), 512))\n",
    "        for i in range(0, math.ceil(len(aligned)/32)):\n",
    "            start = 32*i\n",
    "            end = min(32*(i+1), len(aligned))\n",
    "            embeddings[start:end] = resnet(aligned[start:end]).detach().cpu()\n",
    "            \n",
    "        embeddings = embeddings / np.linalg.norm(embeddings, axis=-1)[:, np.newaxis]\n",
    "        query_embeddings = embeddings[:n]\n",
    "        support_embeddings = embeddings[n:]\n",
    "        return query_embeddings, support_embeddings"
   ]
  },
  {
   "cell_type": "code",
   "execution_count": 18,
   "metadata": {},
   "outputs": [],
   "source": [
    "biometricSystem = BiometricSystem(database=initial_database, model=resnet, vgg_dataset=dataset)"
   ]
  },
  {
   "cell_type": "code",
   "execution_count": 19,
   "metadata": {},
   "outputs": [],
   "source": [
    "# biometricSystem.checkfaces([0,1,2], [0,1,2])"
   ]
  },
  {
   "cell_type": "code",
   "execution_count": null,
   "metadata": {},
   "outputs": [],
   "source": []
  },
  {
   "cell_type": "code",
   "execution_count": 20,
   "metadata": {},
   "outputs": [
    {
     "data": {
      "text/plain": [
       "torch.Size([3, 512])"
      ]
     },
     "execution_count": 20,
     "metadata": {},
     "output_type": "execute_result"
    }
   ],
   "source": [
    "query_ids = [0, 1, 2]\n",
    "trans = transforms.Compose([\n",
    "            np.float32,\n",
    "            transforms.ToTensor(),\n",
    "            fixed_image_standardization\n",
    "        ])\n",
    "aligned = []\n",
    "n = len(query_ids)\n",
    "for query_id in query_ids:\n",
    "    img = trans(dataset.__getitem__(query_id)[0])\n",
    "    aligned.append(img)\n",
    "aligned = torch.stack(aligned).to(device)\n",
    "resnet(aligned).detach().cpu().shape"
   ]
  },
  {
   "cell_type": "code",
   "execution_count": null,
   "metadata": {},
   "outputs": [],
   "source": []
  },
  {
   "cell_type": "code",
   "execution_count": null,
   "metadata": {},
   "outputs": [],
   "source": []
  },
  {
   "cell_type": "code",
   "execution_count": null,
   "metadata": {},
   "outputs": [],
   "source": [
    "\n"
   ]
  },
  {
   "cell_type": "code",
   "execution_count": 49,
   "metadata": {},
   "outputs": [],
   "source": [
    "num_query = 2000\n",
    "fraud_ratio = 0.1\n",
    "\n",
    "fraud = np.random.rand(num_query) < fraud_ratio\n",
    "labels = np.random.choice(imp_classes, num_query)\n",
    "labels[fraud] = np.random.choice(fraud_classes, len(labels[fraud]))\n",
    "# for i in np.where(fraud)[0]:\n",
    "#     label = labels[i]\n",
    "#     newlabel = np.random.choice(all_classes)\n",
    "#     while(newlabel == label):\n",
    "#         newlabel = np.random.choice(all_classes)\n",
    "#     labels[i] = np.random.choice(fraud_classes)\n"
   ]
  },
  {
   "cell_type": "code",
   "execution_count": 50,
   "metadata": {},
   "outputs": [],
   "source": [
    "query_ids = [np.random.choice(dataset.class_to_instances[label]) for label in labels]\n",
    "query_ids = np.array(query_ids)\n"
   ]
  },
  {
   "cell_type": "code",
   "execution_count": 51,
   "metadata": {},
   "outputs": [],
   "source": [
    "pred = biometricSystem.checkfaces(query_ids)"
   ]
  },
  {
   "cell_type": "code",
   "execution_count": 52,
   "metadata": {},
   "outputs": [
    {
     "name": "stdout",
     "output_type": "stream",
     "text": [
      "tp = 59.8%\n",
      "fp = 0.85%\n",
      "tn = 9.3%\n",
      "fn = 30.05%\n"
     ]
    }
   ],
   "source": [
    "_tp = np.logical_and(pred == labels, pred >= 0)\n",
    "_fp = np.logical_and(pred != labels, pred >= 0)\n",
    "_tn = np.logical_and(labels > len(imp_classes)-1, pred < 0)\n",
    "_fn = np.logical_and(labels <= len(imp_classes)-1, pred < 0)\n",
    "tp = np.count_nonzero(_tp)\n",
    "fp = np.count_nonzero(_fp)\n",
    "tn = np.count_nonzero(_tn)\n",
    "fn = np.count_nonzero(_fn)\n",
    "\n",
    "assert(tp+fp+tn+fn == num_query)\n",
    "\n",
    "print(f\"tp = {100*tp/num_query}%\")\n",
    "print(f\"fp = {100*fp/num_query}%\")\n",
    "print(f\"tn = {100*tn/num_query}%\")\n",
    "print(f\"fn = {100*fn/num_query}%\")\n"
   ]
  },
  {
   "cell_type": "code",
   "execution_count": null,
   "metadata": {},
   "outputs": [],
   "source": []
  },
  {
   "cell_type": "code",
   "execution_count": 40,
   "metadata": {},
   "outputs": [
    {
     "name": "stdout",
     "output_type": "stream",
     "text": [
      "tp = 60.225%\n",
      "fp = 0.75%\n",
      "tn = 9.325%\n",
      "fn = 29.7%\n"
     ]
    }
   ],
   "source": [
    "#ASSUMPTION: All important classes are first k classes of all_classes\n",
    "\n",
    "num_query = 2000\n",
    "fraud_ratio = 0.1\n",
    "num_day = 2\n",
    "\n",
    "num_query_total = num_query*num_day\n",
    "tp = fp = tn = fn = 0\n",
    "\n",
    "biometricSystem = BiometricSystem(database=initial_database, model=resnet, vgg_dataset=dataset)\n",
    "\n",
    "for i in range(num_day):\n",
    "    fraud = np.random.rand(num_query) < fraud_ratio\n",
    "    labels = np.random.choice(imp_classes, num_query)\n",
    "    labels[fraud] = np.random.choice(fraud_classes, len(labels[fraud]))\n",
    "        \n",
    "    query_ids = [np.random.choice(dataset.class_to_instances[label]) for label in labels]\n",
    "    query_ids = np.array(query_ids)\n",
    "    pred = biometricSystem.checkfaces(query_ids)\n",
    "    \n",
    "    _tp = np.logical_and(pred == labels, pred >= 0)\n",
    "    _fp = np.logical_and(pred != labels, pred >= 0)\n",
    "    _tn = np.logical_and(labels > len(imp_classes)-1, pred < 0)\n",
    "    _fn = np.logical_and(labels <= len(imp_classes)-1, pred < 0)\n",
    "    tp += np.count_nonzero(_tp)\n",
    "    fp += np.count_nonzero(_fp)\n",
    "    tn += np.count_nonzero(_tn)\n",
    "    fn += np.count_nonzero(_fn)\n",
    "    \n",
    "assert(tp+fp+tn+fn == num_query*num_day)    \n",
    "print(f\"tp = {100*tp/num_query_total}%\")\n",
    "print(f\"fp = {100*fp/num_query_total}%\")\n",
    "print(f\"tn = {100*tn/num_query_total}%\")\n",
    "print(f\"fn = {100*fn/num_query_total}%\")"
   ]
  },
  {
   "cell_type": "code",
   "execution_count": 39,
   "metadata": {},
   "outputs": [
    {
     "data": {
      "text/plain": [
       "array([    0,     0,     0, ...,     0, -1553,     0])"
      ]
     },
     "execution_count": 39,
     "metadata": {},
     "output_type": "execute_result"
    }
   ],
   "source": []
  },
  {
   "cell_type": "code",
   "execution_count": null,
   "metadata": {},
   "outputs": [],
   "source": []
  },
  {
   "cell_type": "code",
   "execution_count": null,
   "metadata": {},
   "outputs": [],
   "source": []
  },
  {
   "cell_type": "code",
   "execution_count": null,
   "metadata": {},
   "outputs": [],
   "source": []
  },
  {
   "cell_type": "code",
   "execution_count": null,
   "metadata": {},
   "outputs": [],
   "source": [
    "class BiometricDataset(Dataset):\n",
    "#     \"\"\"\n",
    "#     A customized data loader for the \"Security Sytem trainer\"\n",
    "#     \"\"\"  \n",
    "    def __init__(self, database, vgg_dataset=None):\n",
    "        if vgg_dataset==None:\n",
    "            self.vgg_dataset = datasets.ImageFolder('../data/VGGFace2/train_cropped')\n",
    "        else:\n",
    "            self.vgg_dataset = vgg_dataset\n",
    "        self.samples = np.array(list(database.values()))\n",
    "\n",
    "    def __getitem__(self, index):\n",
    "        \"\"\" Get a sample from the dataset\n",
    "        \"\"\"\n",
    "        return self.vgg_dataset[self.samples[index]]\n",
    "    \n",
    "    def add(self, item):\n",
    "        self.samples.append(item.value())\n",
    "    \n",
    "    def __len__(self):\n",
    "        return len(self.samples)\n",
    "    \n",
    "\n",
    "\n",
    "# class BiometricDataset(Dataset):\n",
    "#     \"\"\"\n",
    "#     A customized data loader for the \"Security Sytem trainer\"\n",
    "#     \"\"\"\n",
    "#     def __init__(self, database, vgg_dataset=None):\n",
    "#         if vgg_dataset==None:\n",
    "#             self.vgg_dataset = datasets.ImageFolder('../data/VGGFace2/train_cropped')\n",
    "#         else:\n",
    "#             self.vgg_dataset = vgg_dataset\n",
    "#         self.class_to_idx = self.vgg_dataset.class_to_idx\n",
    "#         self.idx_to_class = {i:c for c, i in self.class_to_idx.items()}\n",
    "        \n",
    "#         self.database = {label: database[label] for label in database.keys()}\n",
    "#         self.samples = [(val, label) for label, val in initial_database.items()]\n",
    "        \n",
    "#     def __getitem__(self, index):\n",
    "#         \"\"\" Get a sample from the dataset\n",
    "#         \"\"\"\n",
    "#         return self.vgg_dataset.__getitem__(self.samples[index][0])\n",
    "    \n",
    "#     def add(self, item):\n",
    "#         \"\"\" Add item of the form (vgg_idx, class_idx)\n",
    "#         \"\"\"\n",
    "#         self.samples.append(item)\n",
    "    \n",
    "#     def __len__(self):\n",
    "#         \"\"\"\n",
    "#         Total number of samples in the dataset\n",
    "#         \"\"\"\n",
    "#         return len(self.idx_to_label)\n"
   ]
  },
  {
   "cell_type": "code",
   "execution_count": null,
   "metadata": {},
   "outputs": [],
   "source": [
    "# dataset.samples\n",
    "for i in range(len(biometricDataset)):\n",
    "    print(biometricDataset[i])"
   ]
  },
  {
   "cell_type": "code",
   "execution_count": null,
   "metadata": {},
   "outputs": [],
   "source": [
    "biometricDataset = BiometricDataset(initial_database, dataset)"
   ]
  },
  {
   "cell_type": "code",
   "execution_count": null,
   "metadata": {},
   "outputs": [],
   "source": [
    "biometricDataset[0]"
   ]
  },
  {
   "cell_type": "code",
   "execution_count": null,
   "metadata": {},
   "outputs": [],
   "source": [
    "k = 3\n",
    "print(dataset.idx_to_class[biometricDataset.__getitem__(k)[1]])\n",
    "biometricDataset.__getitem__(k)[0]"
   ]
  },
  {
   "cell_type": "code",
   "execution_count": null,
   "metadata": {},
   "outputs": [],
   "source": [
    "biometricDataset.add((1,0))"
   ]
  },
  {
   "cell_type": "code",
   "execution_count": null,
   "metadata": {},
   "outputs": [],
   "source": [
    "k = 300\n",
    "print(dataset.idx_to_class[biometricDataset.__getitem__(k)[1]])\n",
    "biometricDataset.__getitem__(k)[0]"
   ]
  },
  {
   "cell_type": "code",
   "execution_count": null,
   "metadata": {},
   "outputs": [],
   "source": [
    "initial_database"
   ]
  },
  {
   "cell_type": "code",
   "execution_count": 53,
   "metadata": {},
   "outputs": [
    {
     "data": {
      "text/plain": [
       "2.0"
      ]
     },
     "execution_count": 53,
     "metadata": {},
     "output_type": "execute_result"
    }
   ],
   "source": [
    "np.array([1,2,3]).mean()"
   ]
  },
  {
   "cell_type": "code",
   "execution_count": null,
   "metadata": {},
   "outputs": [],
   "source": []
  }
 ],
 "metadata": {
  "kernelspec": {
   "display_name": "Python [conda env:torch] *",
   "language": "python",
   "name": "conda-env-torch-py"
  },
  "language_info": {
   "codemirror_mode": {
    "name": "ipython",
    "version": 3
   },
   "file_extension": ".py",
   "mimetype": "text/x-python",
   "name": "python",
   "nbconvert_exporter": "python",
   "pygments_lexer": "ipython3",
   "version": "3.8.2"
  }
 },
 "nbformat": 4,
 "nbformat_minor": 4
}
