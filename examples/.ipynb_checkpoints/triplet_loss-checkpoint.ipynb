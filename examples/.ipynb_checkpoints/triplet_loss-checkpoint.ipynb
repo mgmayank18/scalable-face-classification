{
 "cells": [
  {
   "cell_type": "code",
   "execution_count": 8,
   "metadata": {},
   "outputs": [],
   "source": [
    "import torch.nn as nn\n",
    "import numpy as np"
   ]
  },
  {
   "cell_type": "code",
   "execution_count": 17,
   "metadata": {},
   "outputs": [],
   "source": [
    "def triplet_loss(anchor, label, embeddings, database, criterion=None):\n",
    "    \"\"\"\n",
    "    Given an anchor, finds P and N, calculates Triplet Loss and backward gradient\n",
    "    \n",
    "    Parameters:\n",
    "        anchor: feature embedding for the anchor\n",
    "        label:  label for anchor\n",
    "        database: label to index\n",
    "        embeddings: np array of normalized embeddings - assume same order as dataset\n",
    "        criterion: triplet loss passed to the function or then instantiate everytime fn is called\n",
    "    \n",
    "    Returns:\n",
    "        loss: calculated loss (gradients are backpropagated within the fn itself)\n",
    "    \"\"\"\n",
    "    \n",
    "    classes = database.keys()\n",
    "    # if fn is a member of biometric class then use member var for classes and database\n",
    "    \n",
    "    pairwise_dist = np.linalg.norm(embeddings - anchor , axis =1)\n",
    "    \n",
    "    # assuming there is only one index for each class\n",
    "    p_idx = database[label]\n",
    "    positive = embeddings[p_idx]\n",
    "    \n",
    "    n_idx = np.argmin(pairwise_dist[:p_idx])\n",
    "    if p_idx + 1 < len(embeddings):\n",
    "        n2_idx = p_idx + 1 + np.argmin(pairwise_dist[p_idx+1:])\n",
    "        if pairwise_dist[n2_idx] < pairwise_dist[n_idx]:\n",
    "            n_idx = n2_idx\n",
    "    \n",
    "    negative = embeddings[n_idx]\n",
    "    \n",
    "    if criterion is None:\n",
    "        criterion = nn.TripletMarginLoss(margin=1.0)\n",
    "    \n",
    "    loss = criterion(anchor, positive, negative)\n",
    "    loss.backward()\n",
    "    print(\"Loss: \", loss)\n",
    "    \n",
    "    return loss"
   ]
  }
 ],
 "metadata": {
  "kernelspec": {
   "display_name": "Python 3",
   "language": "python",
   "name": "python3"
  },
  "language_info": {
   "codemirror_mode": {
    "name": "ipython",
    "version": 3
   },
   "file_extension": ".py",
   "mimetype": "text/x-python",
   "name": "python",
   "nbconvert_exporter": "python",
   "pygments_lexer": "ipython3",
   "version": "3.8.1"
  }
 },
 "nbformat": 4,
 "nbformat_minor": 4
}
