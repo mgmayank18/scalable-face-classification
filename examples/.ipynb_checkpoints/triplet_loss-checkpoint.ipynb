{
 "cells": [
  {
   "cell_type": "code",
   "execution_count": 8,
   "metadata": {},
   "outputs": [],
   "source": [
    "import torch.nn as nn\n",
    "import numpy as np"
   ]
  },
  {
   "cell_type": "code",
   "execution_count": 17,
   "metadata": {},
   "outputs": [],
   "source": [
    "def triplet_loss(query_embeddings, labels, embeddings, support_labels):\n",
    "    \"\"\"\n",
    "    Given an anchor, finds P and N, calculates Triplet Loss and backward gradient\n",
    "    \n",
    "    Parameters:\n",
    "        query_embeddings: feature embedding for the anchor\n",
    "        labels:  label for anchor\n",
    "        embeddings: np array of normalized embeddings - assume same order as dataset\n",
    "        support_labels:  self explanatory\n",
    "    \n",
    "    Returns:\n",
    "        loss: calculated loss (gradients are backpropagated within the fn itself)\n",
    "    \"\"\"    \n",
    "    anchors = query_embeddings\n",
    "    positive = np.zeros_like(anchors)\n",
    "    negative = np.zeros_like(anchors)\n",
    "    \n",
    "    support_labels = SOMETHING\n",
    "    \n",
    "    for i in range(anchors.size(0)):\n",
    "        # biometric -> get_embeddings -> query + base embeddings\n",
    "        # get predicted labels from query using check_faces\n",
    "        pairwise_dist = np.linalg.norm(embeddings - anchors[i] , axis =1)\n",
    "\n",
    "        a_label = labels[i]\n",
    "\n",
    "        pos_mask = np.where(support_labels == a_label)\n",
    "        pos_distances = pairwise_dist * pos_mask\n",
    "        pos_index = np.argmax(pos_distances)\n",
    "        positive[i] = embeddings[pos_index]\n",
    "        \n",
    "        neg_mask = np.where(support_labels != a_label)\n",
    "        neg_distances = pairwise_dist * neg_mask\n",
    "        neg_index = np.argmin(pos_distances)\n",
    "        negative[i] = embeddings[neg_index]\n",
    "    \n",
    "    criterion = nn.TripletMarginLoss(margin=1.0)\n",
    "    loss = criterion(anchor, positive, negative)\n",
    "#     loss.backward()\n",
    "    print(\"Loss: \", loss.item())\n",
    "    \n",
    "    return loss"
   ]
  }
 ],
 "metadata": {
  "kernelspec": {
   "display_name": "Python 3",
   "language": "python",
   "name": "python3"
  },
  "language_info": {
   "codemirror_mode": {
    "name": "ipython",
    "version": 3
   },
   "file_extension": ".py",
   "mimetype": "text/x-python",
   "name": "python",
   "nbconvert_exporter": "python",
   "pygments_lexer": "ipython3",
   "version": "3.8.1"
  }
 },
 "nbformat": 4,
 "nbformat_minor": 4
}
