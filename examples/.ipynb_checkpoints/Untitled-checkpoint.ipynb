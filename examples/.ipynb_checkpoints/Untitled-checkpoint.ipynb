{
 "cells": [
  {
   "cell_type": "code",
   "execution_count": 8,
   "metadata": {},
   "outputs": [],
   "source": [
    "import torch.nn as nn\n",
    "import numpy as np"
   ]
  },
  {
   "cell_type": "code",
   "execution_count": 17,
   "metadata": {},
   "outputs": [],
   "source": [
    "def triplet_loss(anchor, label, embeddings, database, criterion=None, mining=True):\n",
    "    \"\"\"\n",
    "    Given an anchor, finds P and N, calculates Triplet Loss and backward gradient\n",
    "    \n",
    "    Parameters:\n",
    "        anchor: feature embedding for the anchor\n",
    "        label:  label for anchor\n",
    "        embeddings: np array of embeddings - assume same order as dataset - ensure normalized\n",
    "        database: label to index\n",
    "        criterion: assume to be passed to the function or then instantiate everytime fn is called\n",
    "        mining: assuming turning this off will be much faster, default is True\n",
    "    \n",
    "    Returns:\n",
    "        loss: calculated loss (gradients are propagated within the fn itself)\n",
    "    \"\"\"\n",
    "    \n",
    "    classes = database.keys()\n",
    "    pairwise_dist = np.linalg.norm(embeddings - anchor , axis =1)\n",
    "    \n",
    "    p_idx = database[label]\n",
    "    positive = embeddings[p_idx]\n",
    "    \n",
    "    n_idx = np.argmin(pairwise_dist[:p_idx])\n",
    "    if p_idx + 1 < len(embeddings):\n",
    "        n2_idx = p_idx + 1 + np.argmin(pairwise_dist[p_idx+1:])\n",
    "        if pairwise_dist[n2_idx] < pairwise_dist[n_idx]:\n",
    "            n_idx = n2_idx\n",
    "    \n",
    "    negative = embeddings[n_idx]\n",
    "    \n",
    "    if criterion == None:\n",
    "        criterion = nn.TripletMarginLoss(margin=1.0)\n",
    "    \n",
    "    loss = criterion(anchor, positive, negative)\n",
    "    loss.backward()\n",
    "    print(\"Loss: \", loss)"
   ]
  },
  {
   "cell_type": "code",
   "execution_count": 16,
   "metadata": {},
   "outputs": [
    {
     "name": "stdout",
     "output_type": "stream",
     "text": [
      "[[0 0 0]\n",
      " [1 1 1]]\n",
      "[0.         1.73205081]\n"
     ]
    }
   ],
   "source": [
    "a = np.array([[1,2,3], [2, 3, 4]])\n",
    "b = np.array([1,2,3])\n",
    "print(a-b)\n",
    "pairwise_dist = np.linalg.norm(a - b , axis =1)\n",
    "print(pairwise_dist)"
   ]
  },
  {
   "cell_type": "code",
   "execution_count": 25,
   "metadata": {},
   "outputs": [
    {
     "data": {
      "text/plain": [
       "0"
      ]
     },
     "execution_count": 25,
     "metadata": {},
     "output_type": "execute_result"
    }
   ],
   "source": [
    "np.argmin(b[2:])"
   ]
  },
  {
   "cell_type": "code",
   "execution_count": 26,
   "metadata": {},
   "outputs": [
    {
     "data": {
      "text/plain": [
       "array([3])"
      ]
     },
     "execution_count": 26,
     "metadata": {},
     "output_type": "execute_result"
    }
   ],
   "source": [
    "b[2:]"
   ]
  },
  {
   "cell_type": "code",
   "execution_count": null,
   "metadata": {},
   "outputs": [],
   "source": []
  }
 ],
 "metadata": {
  "kernelspec": {
   "display_name": "Python 3",
   "language": "python",
   "name": "python3"
  },
  "language_info": {
   "codemirror_mode": {
    "name": "ipython",
    "version": 3
   },
   "file_extension": ".py",
   "mimetype": "text/x-python",
   "name": "python",
   "nbconvert_exporter": "python",
   "pygments_lexer": "ipython3",
   "version": "3.8.1"
  }
 },
 "nbformat": 4,
 "nbformat_minor": 4
}
